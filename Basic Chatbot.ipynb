{
 "cells": [
  {
   "cell_type": "markdown",
   "id": "8ce8e480-59b8-42eb-b386-fd939559a5d7",
   "metadata": {},
   "source": [
    "# CHATBOT : LVL 1"
   ]
  },
  {
   "cell_type": "markdown",
   "id": "fb5aa219-c2da-4d62-b490-413ff2b8c274",
   "metadata": {},
   "source": [
    "## **Data**"
   ]
  },
  {
   "cell_type": "code",
   "execution_count": 1,
   "id": "4d6ed9a4-d17a-4226-8828-2e2276f8fbd6",
   "metadata": {
    "scrolled": true
   },
   "outputs": [
    {
     "name": "stdout",
     "output_type": "stream",
     "text": [
      "Dataset URL: https://www.kaggle.com/datasets/melissamonfared/mental-health-counseling-conversations-k\n",
      "License(s): MIT\n",
      "Downloading mental-health-counseling-conversations-k.zip to /Users/ryanakmalpasya/Documents/[1] BS/[2] Freelance/PROJECTS/[1] EMERGING/[2] AI/[2] NLP/Language Models\n",
      "100%|██████████████████████████████████████| 4.93M/4.93M [00:01<00:00, 5.50MB/s]\n",
      "100%|██████████████████████████████████████| 4.93M/4.93M [00:01<00:00, 3.55MB/s]\n",
      "Archive:  mental-health-counseling-conversations-k.zip\n",
      "  inflating: data/archive/Dataset.csv  \n",
      "  inflating: data/archive/counsel_chat2.csv  \n",
      "  inflating: data/archive/counselchat-data.csv  \n",
      "  inflating: data/combined_dataset.json  \n",
      "\u001b[33mDEPRECATION: Loading egg at /Library/Frameworks/Python.framework/Versions/3.12/lib/python3.12/site-packages/mask_rcnn-2.1-py3.12.egg is deprecated. pip 24.3 will enforce this behaviour change. A possible replacement is to use pip for package installation. Discussion can be found at https://github.com/pypa/pip/issues/12330\u001b[0m\u001b[33m\n",
      "\u001b[0mRequirement already satisfied: pandas in /Library/Frameworks/Python.framework/Versions/3.12/lib/python3.12/site-packages (2.2.2)\n",
      "Requirement already satisfied: scikit-learn in /Library/Frameworks/Python.framework/Versions/3.12/lib/python3.12/site-packages (1.4.2)\n",
      "Requirement already satisfied: nltk in /Library/Frameworks/Python.framework/Versions/3.12/lib/python3.12/site-packages (3.9.1)\n",
      "Requirement already satisfied: numpy>=1.26.0 in /Library/Frameworks/Python.framework/Versions/3.12/lib/python3.12/site-packages (from pandas) (1.26.4)\n",
      "Requirement already satisfied: python-dateutil>=2.8.2 in /Library/Frameworks/Python.framework/Versions/3.12/lib/python3.12/site-packages (from pandas) (2.8.2)\n",
      "Requirement already satisfied: pytz>=2020.1 in /Library/Frameworks/Python.framework/Versions/3.12/lib/python3.12/site-packages (from pandas) (2024.1)\n",
      "Requirement already satisfied: tzdata>=2022.7 in /Library/Frameworks/Python.framework/Versions/3.12/lib/python3.12/site-packages (from pandas) (2024.1)\n",
      "Requirement already satisfied: scipy>=1.6.0 in /Library/Frameworks/Python.framework/Versions/3.12/lib/python3.12/site-packages (from scikit-learn) (1.13.0)\n",
      "Requirement already satisfied: joblib>=1.2.0 in /Library/Frameworks/Python.framework/Versions/3.12/lib/python3.12/site-packages (from scikit-learn) (1.4.2)\n",
      "Requirement already satisfied: threadpoolctl>=2.0.0 in /Library/Frameworks/Python.framework/Versions/3.12/lib/python3.12/site-packages (from scikit-learn) (3.5.0)\n",
      "Requirement already satisfied: click in /Library/Frameworks/Python.framework/Versions/3.12/lib/python3.12/site-packages (from nltk) (8.1.7)\n",
      "Requirement already satisfied: regex>=2021.8.3 in /Library/Frameworks/Python.framework/Versions/3.12/lib/python3.12/site-packages (from nltk) (2023.12.25)\n",
      "Requirement already satisfied: tqdm in /Library/Frameworks/Python.framework/Versions/3.12/lib/python3.12/site-packages (from nltk) (4.66.5)\n",
      "Requirement already satisfied: six>=1.5 in /Library/Frameworks/Python.framework/Versions/3.12/lib/python3.12/site-packages (from python-dateutil>=2.8.2->pandas) (1.16.0)\n"
     ]
    }
   ],
   "source": [
    "# donlot data buat training ajg\n",
    "!kaggle datasets download -d melissamonfared/mental-health-counseling-conversations-k\n",
    "# unzip dlu bos\n",
    "!unzip mental-health-counseling-conversations-k.zip -d data/\n",
    "#install yang diperluin, disini masi pake logistic regresi aja, namanya juga level 1\n",
    "!pip install pandas scikit-learn nltk"
   ]
  },
  {
   "cell_type": "code",
   "execution_count": 3,
   "id": "2c4a0e5f-f16a-4606-b868-55e233aaccac",
   "metadata": {},
   "outputs": [
    {
     "data": {
      "text/html": [
       "<div>\n",
       "<style scoped>\n",
       "    .dataframe tbody tr th:only-of-type {\n",
       "        vertical-align: middle;\n",
       "    }\n",
       "\n",
       "    .dataframe tbody tr th {\n",
       "        vertical-align: top;\n",
       "    }\n",
       "\n",
       "    .dataframe thead th {\n",
       "        text-align: right;\n",
       "    }\n",
       "</style>\n",
       "<table border=\"1\" class=\"dataframe\">\n",
       "  <thead>\n",
       "    <tr style=\"text-align: right;\">\n",
       "      <th></th>\n",
       "      <th>Context</th>\n",
       "      <th>Response</th>\n",
       "    </tr>\n",
       "  </thead>\n",
       "  <tbody>\n",
       "    <tr>\n",
       "      <th>0</th>\n",
       "      <td>I'm going through some things with my feelings...</td>\n",
       "      <td>If everyone thinks you're worthless, then mayb...</td>\n",
       "    </tr>\n",
       "    <tr>\n",
       "      <th>1</th>\n",
       "      <td>I'm going through some things with my feelings...</td>\n",
       "      <td>Hello, and thank you for your question and see...</td>\n",
       "    </tr>\n",
       "    <tr>\n",
       "      <th>2</th>\n",
       "      <td>I'm going through some things with my feelings...</td>\n",
       "      <td>First thing I'd suggest is getting the sleep y...</td>\n",
       "    </tr>\n",
       "    <tr>\n",
       "      <th>3</th>\n",
       "      <td>I'm going through some things with my feelings...</td>\n",
       "      <td>Therapy is essential for those that are feelin...</td>\n",
       "    </tr>\n",
       "    <tr>\n",
       "      <th>4</th>\n",
       "      <td>I'm going through some things with my feelings...</td>\n",
       "      <td>I first want to let you know that you are not ...</td>\n",
       "    </tr>\n",
       "  </tbody>\n",
       "</table>\n",
       "</div>"
      ],
      "text/plain": [
       "                                             Context  \\\n",
       "0  I'm going through some things with my feelings...   \n",
       "1  I'm going through some things with my feelings...   \n",
       "2  I'm going through some things with my feelings...   \n",
       "3  I'm going through some things with my feelings...   \n",
       "4  I'm going through some things with my feelings...   \n",
       "\n",
       "                                            Response  \n",
       "0  If everyone thinks you're worthless, then mayb...  \n",
       "1  Hello, and thank you for your question and see...  \n",
       "2  First thing I'd suggest is getting the sleep y...  \n",
       "3  Therapy is essential for those that are feelin...  \n",
       "4  I first want to let you know that you are not ...  "
      ]
     },
     "execution_count": 3,
     "metadata": {},
     "output_type": "execute_result"
    }
   ],
   "source": [
    "# Ambil data\n",
    "import pandas as pd\n",
    "data = pd.read_csv('data/archive/Dataset.csv')\n",
    "data.head()"
   ]
  },
  {
   "cell_type": "markdown",
   "id": "45b2342f-305a-4f88-b9cf-4802a850b02a",
   "metadata": {},
   "source": [
    "## **BOT**"
   ]
  },
  {
   "cell_type": "code",
   "execution_count": 4,
   "id": "33379786-261d-4d0f-9812-4a9727376792",
   "metadata": {},
   "outputs": [
    {
     "name": "stdout",
     "output_type": "stream",
     "text": [
      "VALUE YANG NGISSSING:\n",
      "Context     0\n",
      "Response    4\n",
      "dtype: int64\n"
     ]
    }
   ],
   "source": [
    "from sklearn.feature_extraction.text import TfidfVectorizer\n",
    "from sklearn.linear_model import LogisticRegression\n",
    "import random\n",
    "\n",
    "\n",
    "# cek data yang null \n",
    "print(\"VALUE YANG NGISSSING:\")\n",
    "print(data.isnull().sum())\n",
    "\n",
    "# dropna hilangin data kosong, kayak otak klen\n",
    "data = data.dropna()\n",
    "\n",
    "# Persiapkan data untuk dikasih makan model, ih takutnya\n",
    "vectorizer = TfidfVectorizer()\n",
    "X = vectorizer.fit_transform(data['Context'])\n",
    "y = data['Response']\n",
    "\n",
    "# train model, pake logistic regression simple aja, nmanya juga lvl 1\n",
    "model = LogisticRegression()\n",
    "model.fit(X, y)\n",
    "\n",
    "def chatbot_response(user_input):\n",
    "    user_vector = vectorizer.transform([user_input])\n",
    "    \n",
    "    # prediksi ajg\n",
    "    response = model.predict(user_vector)[0]\n",
    "    \n",
    "    # output yang agak random,\n",
    "    similar_responses = data[data['Context'] == user_input]['Response'].tolist()\n",
    "    if similar_responses:\n",
    "        response = random.choice(similar_responses)\n",
    "        \n",
    "    return response"
   ]
  },
  {
   "cell_type": "markdown",
   "id": "8ddad7da-645f-469f-9ab0-d20f02368403",
   "metadata": {},
   "source": [
    "## **Conversation Test**"
   ]
  },
  {
   "cell_type": "code",
   "execution_count": null,
   "id": "3a138914-0ced-4f4d-9c1e-3fec3a7774b6",
   "metadata": {},
   "outputs": [
    {
     "name": "stdout",
     "output_type": "stream",
     "text": [
      "udh siap bos, ketik exit buat keluar, klo ga kluar ga asik\n"
     ]
    },
    {
     "name": "stdin",
     "output_type": "stream",
     "text": [
      "Ngomong bos (pake bahasa inggris):  kontol\n"
     ]
    },
    {
     "name": "stdout",
     "output_type": "stream",
     "text": [
      "Sikawan: Hello, and thank you for your question. Self-diagnosing is something that we all do about one health issue or another. Taking a guess about what may or may not be happening to us is completely normal, however the actual clinical diagnoses of a mental health disorder requires a licensed mental health professional. Here are a few reasons for this: 1. Making a clinical diagnosis often requires other things besides matching up the symptoms of a disorder. To come to a diagnoses for any of the things you mentioned, a counselor would consult the DSM, but they may also use some type of screening tool, assessment or scale. Many disorders have similarities and it requires someone with training to tease out the differences in the symptoms. 2. Our judgement is sometimes off when it comes to assessing ourselves. We really can't be objective. Something as serious as determining a diagnosis really needs to be done by someone who has that objectivity. In addition, once you know your diagnosis, treating it usually requires help from a professional. 3. Sometimes the symptoms of a mental health disorder makes self-diagnoses impossible, in and of itself. For example, someone could be having hallucinations or delusions and not realize it. That would clearly make it impossible for them to diagnose themselves. There a many examples where something like this could happen with different mental health disorders. There are other reasons, but these are three important ones. Now, does this mean that you are wrong about your diagnosis? Maybe not. You may be correct. But, it is important to get this confirmed by a professional mental health clinician. If a disorder is then found, you can begin to talk about treatment. Hope this was helpful. Be well.Robin J. Landwehr, DBH, LPCC, NCC\n"
     ]
    }
   ],
   "source": [
    "print(\"udh siap bos, ketik exit buat keluar, klo ga kluar ga asik\")\n",
    "\n",
    "while True:\n",
    "    user_input = input(\"Ngomong bos (pake bahasa inggris): \")\n",
    "    if user_input.lower() == 'exit':\n",
    "        print(\"Sikawan: Goodbye!\")\n",
    "        break\n",
    "    \n",
    "    response = chatbot_response(user_input)\n",
    "    print(\"Sikawan:\", response)\n"
   ]
  },
  {
   "cell_type": "code",
   "execution_count": null,
   "id": "13584daf-71d6-4899-81eb-945c564241b8",
   "metadata": {},
   "outputs": [],
   "source": [
    "# emang paok jawabnnya, karna modelnya juga elek, yg penting paham konsep atau alur dasarnya dulu. KONTOL"
   ]
  }
 ],
 "metadata": {
  "kernelspec": {
   "display_name": "Python 3 (ipykernel)",
   "language": "python",
   "name": "python3"
  },
  "language_info": {
   "codemirror_mode": {
    "name": "ipython",
    "version": 3
   },
   "file_extension": ".py",
   "mimetype": "text/x-python",
   "name": "python",
   "nbconvert_exporter": "python",
   "pygments_lexer": "ipython3",
   "version": "3.12.3"
  }
 },
 "nbformat": 4,
 "nbformat_minor": 5
}
